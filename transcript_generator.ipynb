{
 "cells": [
  {
   "cell_type": "code",
   "execution_count": 1,
   "metadata": {
    "colab": {
     "base_uri": "https://localhost:8080/"
    },
    "id": "aSYiLQV5lZCl",
    "outputId": "ebada4d3-da51-4df6-d550-ad8027266bab"
   },
   "outputs": [
    {
     "name": "stdout",
     "output_type": "stream",
     "text": [
      "Drive already mounted at /gdrive; to attempt to forcibly remount, call drive.mount(\"/gdrive\", force_remount=True).\n"
     ]
    }
   ],
   "source": [
    "from google.colab import drive\n",
    "drive.mount('/gdrive')"
   ]
  },
  {
   "cell_type": "code",
   "execution_count": 2,
   "metadata": {
    "id": "YIuZRWKelbzW"
   },
   "outputs": [],
   "source": [
    "# Install the python package for google gen AI\n",
    "!pip install -q -U google-generativeai"
   ]
  },
  {
   "cell_type": "code",
   "execution_count": 3,
   "metadata": {
    "id": "RUcnRU_TsK4m"
   },
   "outputs": [],
   "source": [
    "# Import necessary packages and define helper function to render output of models to markdown\n",
    "import pathlib\n",
    "import textwrap\n",
    "\n",
    "import google.generativeai as genai\n",
    "\n",
    "from IPython.display import display\n",
    "from IPython.display import Markdown\n",
    "\n",
    "def to_markdown(text):\n",
    "  text = text.replace('•', '  *')\n",
    "  return Markdown(textwrap.indent(text, '> ', predicate=lambda _: True))\n",
    "\n",
    "# Used to securely store your API key\n",
    "from google.colab import userdata"
   ]
  },
  {
   "cell_type": "code",
   "execution_count": 4,
   "metadata": {
    "id": "wpEF9u56sSwF"
   },
   "outputs": [],
   "source": [
    "# Grab API Key from your secrets, add it to secrets if its not there (on the left hand panel)\n",
    "GOOGLE_API_KEY=userdata.get('MoodMates')\n",
    "\n",
    "# Configure genai to use your API Key\n",
    "genai.configure(api_key=GOOGLE_API_KEY)"
   ]
  },
  {
   "cell_type": "code",
   "execution_count": 5,
   "metadata": {
    "colab": {
     "base_uri": "https://localhost:8080/",
     "height": 481
    },
    "id": "OE8PBt0VsmwZ",
    "outputId": "687cd0ac-85ec-4458-aca1-ce2f27734c9d"
   },
   "outputs": [
    {
     "name": "stdout",
     "output_type": "stream",
     "text": [
      "models/gemini-1.0-pro-latest\n",
      "models/gemini-1.0-pro\n",
      "models/gemini-pro\n",
      "models/gemini-1.0-pro-001\n",
      "models/gemini-1.0-pro-vision-latest\n",
      "models/gemini-pro-vision\n",
      "models/gemini-1.5-pro-latest\n",
      "models/gemini-1.5-pro-001\n",
      "models/gemini-1.5-pro-002\n",
      "models/gemini-1.5-pro\n",
      "models/gemini-1.5-pro-exp-0801\n",
      "models/gemini-1.5-pro-exp-0827\n",
      "models/gemini-1.5-flash-latest\n",
      "models/gemini-1.5-flash-001\n",
      "models/gemini-1.5-flash-001-tuning\n",
      "models/gemini-1.5-flash\n",
      "models/gemini-1.5-flash-exp-0827\n",
      "models/gemini-1.5-flash-002\n",
      "models/gemini-1.5-flash-8b\n",
      "models/gemini-1.5-flash-8b-001\n",
      "models/gemini-1.5-flash-8b-latest\n",
      "models/gemini-1.5-flash-8b-exp-0827\n",
      "models/gemini-1.5-flash-8b-exp-0924\n",
      "models/learnlm-1.5-pro-experimental\n",
      "models/gemini-exp-1114\n",
      "models/gemini-exp-1121\n"
     ]
    }
   ],
   "source": [
    "# List the available gemini models\n",
    "for m in genai.list_models():\n",
    "  if 'generateContent' in m.supported_generation_methods:\n",
    "    print(m.name)"
   ]
  },
  {
   "cell_type": "code",
   "execution_count": 6,
   "metadata": {
    "id": "KOPCRzsisqz1"
   },
   "outputs": [],
   "source": [
    "# Select a model and instantiate a GenerativeModel\n",
    "model = genai.GenerativeModel('gemini-1.5-flash-8b-exp-0924')"
   ]
  },
  {
   "cell_type": "code",
   "execution_count": null,
   "metadata": {
    "id": "XHT7xORUnDiV"
   },
   "outputs": [],
   "source": [
    "f = open(\"simulated_transcript.txt\", \"r\")\n",
    "transcript = f.read()"
   ]
  },
  {
   "cell_type": "code",
   "execution_count": 8,
   "metadata": {
    "colab": {
     "base_uri": "https://localhost:8080/",
     "height": 1000
    },
    "id": "QElRirlSTfNW",
    "outputId": "e66e869f-68cf-4700-95cf-cef329fd9209"
   },
   "outputs": [
    {
     "data": {
      "text/markdown": [
       "> Transcript 2:\n",
       "> \n",
       "> Background:  The patient is a 32-year-old female, a freelance graphic designer, seeking evaluation for potential ADHD. She completed an online screening questionnaire and felt it might be related to her struggles with work and social life.\n",
       "> \n",
       "> Psychiatrist: Now, I want to talk about some symptoms related to inattention.  Some of these questions sound similar but look at different aspects. Tell me if you feel you experience these, when they started, and how they’ve affected your life.\n",
       "> \n",
       "> Patient: Okay.\n",
       "> \n",
       "> Psychiatrist: Do you find it difficult to pay attention to details, like when you’re working on a project?\n",
       "> \n",
       "> Patient:  Sometimes, but it’s usually a problem with following instructions. It's not really about details, though. I’m pretty good at choosing colors and fonts.\n",
       "> \n",
       "> Psychiatrist:  So, you have difficulty following directions related to a project?  Can you give me some specific examples?\n",
       "> \n",
       "> Patient:  (Pauses) Okay, like, sometimes a client will give me a very specific set of instructions, and I'll sort of… drift off and miss part of it. Then I'll forget what it was supposed to look like.\n",
       "> \n",
       "> Psychiatrist:  So you're understanding the initial directive, but not the details of how to carry it out fully? Can you give me an example from a project at work?\n",
       "> \n",
       "> Patient:  (Long pause, looks around the room) Um… a logo design once. The client was super specific about the font… and I forgot to use the specific font they mentioned.\n",
       "> \n",
       "> Psychiatrist:  And how did that play out?\n",
       "> \n",
       "> Patient: I had to redo it. It was a little frustrating for me and the client.\n",
       "> \n",
       "> Psychiatrist:  Were there any consequences?\n",
       "> \n",
       "> Patient:  Yeah, the client was a little annoyed, and it took longer.\n",
       "> \n",
       "> \n",
       "> Psychiatrist:  What about focusing on tasks over a period of time? For example, are you able to stay on task when working on something challenging or detailed?\n",
       "> \n",
       "> Patient: I struggle with staying focused on projects. I get easily distracted.\n",
       "> \n",
       "> Psychiatrist:  When did you first notice that was a problem?\n",
       "> \n",
       "> Patient: I’ve always struggled with it, but it got really bad in college.\n",
       "> \n",
       "> Psychiatrist: Did it exist in childhood?\n",
       "> \n",
       "> Patient:  Maybe, I dunno. I had a lot of trouble in class, and my teachers always told me to slow down.\n",
       "> \n",
       "> Psychiatrist: What about at home?\n",
       "> \n",
       "> \n",
       "> Patient: (Shrugs) I guess so. I’d start a chore and not finish it. Like cleaning my room or laundry.\n",
       "> \n",
       "> Psychiatrist: So, you'd start a task, but not complete it?\n",
       "> \n",
       "> Patient:  Yes, usually.\n",
       "> \n",
       "> \n",
       "> Psychiatrist:  How has this impacted your work, your personal life, or your relationships with friends and family?\n",
       "> \n",
       "> Patient: I struggle to meet deadlines at work. I know I don’t always communicate my struggles, and it leads to more problems and stress.\n",
       "> \n",
       "> Psychiatrist:  What about your relationships? Does this impact them?\n",
       "> \n",
       "> Patient:  (Shrugs) I don’t know. Maybe? I think I’m more forgetful of stuff like appointments and dates or details in social settings.\n",
       "> \n",
       "> Psychiatrist:  Can you give me an example of something you forgot in a social situation?\n",
       "> \n",
       "> Patient:  I think I forgot about a friend’s birthday. It wasn’t a huge thing but I still felt bad about it.\n",
       "> \n",
       "> Psychiatrist:  Can you describe what you were doing, leading up to that moment? Were there things that triggered that forgetfulness?\n",
       "> \n",
       "> Patient:  I’m just not organized. I'm always thinking about other stuff.\n",
       "> \n",
       "> \n",
       "> Psychiatrist: That’s understandable. Now, what about the next point. Are you able to listen attentively to someone who is talking to you directly?\n",
       "> \n",
       "> Patient:  (Looking at her hands) Sometimes, not always. I think I get distracted by what I'm thinking about myself or if I don't understand something.\n",
       "> \n",
       "> \n",
       "> Psychiatrist: What about when someone is talking to you directly? Do you find your mind wandering?\n",
       "> \n",
       "> Patient:  Yeah, sometimes.\n",
       "> \n",
       "> \n",
       "> Psychiatrist: Did you experience this during childhood?\n",
       "> \n",
       "> Patient:  I think so. My parents said I wasn't listening to them. It caused some friction.\n",
       "> \n",
       "> \n",
       "> Psychiatrist: What about at school?\n",
       "> \n",
       "> Patient:  My teachers sometimes said I wasn't paying attention in class. But I felt like they were asking too much of me.\n",
       "> \n",
       "> \n",
       "> Psychiatrist:  What about completing tasks, starting and finishing them?\n",
       "> \n",
       "> Patient:  Sometimes I have trouble. It's easier if I break them down into smaller steps, but that still takes a while. I miss steps, or skip steps.\n",
       "> \n",
       "> \n",
       "> \n",
       "> Psychiatrist: Let’s talk about organizing. How do you organize your work and your personal life?\n",
       "> \n",
       "> Patient: I use a planner, but I still miss things.\n",
       "> \n",
       "> Psychiatrist: What kinds of things do you forget or lose?\n",
       "> \n",
       "> Patient:  I lose my keys, my phone charger, even my wallet! It's very frustrating.\n",
       "> \n",
       "> \n",
       "> Psychiatrist: Have you ever had to call a locksmith or have your phone or other things replaced?\n",
       "> \n",
       "> Patient: (Sighs) Yes, a couple of times.\n",
       "> \n",
       "> \n",
       "> Psychiatrist: What about avoiding tasks? Do any tasks feel impossible or so difficult that you avoid them?\n",
       "> \n",
       "> Patient:  I’ve avoided doing my taxes for a long time because I get so overwhelmed by all the paperwork.\n",
       "> \n",
       "> \n",
       "> Psychiatrist:  When did that start feeling like too much work for you?\n",
       "> \n",
       "> Patient:  I think it started during my tax classes in college. I just couldn’t keep up with all the instructions.\n",
       "> \n",
       "> Psychiatrist:  Are there things that distract you at home?\n",
       "> \n",
       "> Patient:  If there’s loud noise, I can’t focus. Or if someone's talking to me or if someone comes in the room and I'm in the middle of something, it disrupts me.\n",
       "> Psychiatrist: Did this happen to you in childhood?\n",
       "> \n",
       "> Patient: Yeah, my older brother would be loud or playing in the next room and I'd lose focus.\n",
       "> \n",
       "> Psychiatrist:  Do you think you’ve been putting yourself, or others, in a dangerous situation due to your inattention?\n",
       "> \n",
       "> Patient:  (Hesitates) Maybe.\n",
       "> \n",
       "> \n",
       "> Psychiatrist: Can you give me an example?\n",
       "> \n",
       "> Patient:  I almost forgot to turn off the oven once.\n"
      ],
      "text/plain": [
       "<IPython.core.display.Markdown object>"
      ]
     },
     "execution_count": 8,
     "metadata": {},
     "output_type": "execute_result"
    }
   ],
   "source": [
    "prompt = f\"\"\"You are generating a simulated transcript of a patient encounter that took place in an adult outpatient psychiatric practice where a patient is being evaluated for ADHD. During this encounter, the psychiatrist is specifically asking the patient about his or her symptoms of inattention (inattention to detail, poor focus, difficulty listening to others when being spoken to directly, inability to complete tasks, poor organizational abilities, avoiding difficult tasks or tasks requiring sustained focus, frequently losing their belongings, distractibility, and forgetfulness). The patient demonstrates obvious symptoms of inattention in the way they reply to the psychiatrist. The psychiatrist is trying to find out which inattentive symptoms the patient has, when the symptom began, and ways the symptoms have been consequential over time.The psychiatrist wants to understand the cumulative toll that inattention has taken on the patient’s identity, relationships with family or significant others, and occupational success or shortcoming. The psychiatrist will prompt the patient multiple times if necessary to fully understand the ways the symptom impacts the patient’s life. As the psychiatrist prompts the patient about these symptoms, the patient will omit some or all of the information the psychiatrist is seeking, for example by replying to only part of a question. At times the patient will misunderstand what the psychiatrist is asking because they have not paid close attention to the question that was asked. At one point in the interview the patient will become distracted by their own thoughts or by events occurring in the room while speaking with the psychiatrist - here the patient will ask the psychiatrist to repeat their question or ask it another way. The patient will confuse one symptom of ADHD for another in their reply. For one symptom, the patient will struggle to provide real world examples of the symptom in their own life. The psychiatrist will comment directly if the patient has not answered his question and then clarify the question to the patient - this will occur several times during the interview. When the patient gives insufficient background information about a symptom, the psychiatrist will assist the patient by asking about circumstances during childhood, adolescence, and adulthood where the symptom might have been evident. Sometimes the patient avoids answering a question posed by the psychiatrist. The psychiatrist attempts to be empathic when the patient shares vulnerable information. If the patient suggests that they are accidentally putting themselves or other people in danger due to their symptoms of inattention, the psychiatrist will ask directly for further details and will express heartfelt concern.\n",
    "\n",
    "Use the simulated transcript below as an example, and generate a different conversation of similar length. Please capture all nine symptoms of inattention defined in the DSM-5.\n",
    "\n",
    "Transcript example:\n",
    "{transcript}\n",
    "\"\"\"\n",
    "\n",
    "response = model.generate_content(prompt)\n",
    "\n",
    "to_markdown(response.text)"
   ]
  }
 ],
 "metadata": {
  "colab": {
   "provenance": []
  },
  "kernelspec": {
   "display_name": "Python 3",
   "name": "python3"
  },
  "language_info": {
   "name": "python"
  }
 },
 "nbformat": 4,
 "nbformat_minor": 0
}
