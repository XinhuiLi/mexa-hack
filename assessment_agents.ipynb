{
 "cells": [
  {
   "cell_type": "code",
   "execution_count": 1,
   "metadata": {
    "colab": {
     "base_uri": "https://localhost:8080/"
    },
    "executionInfo": {
     "elapsed": 957,
     "status": "ok",
     "timestamp": 1733432834253,
     "user": {
      "displayName": "Xinhui Li",
      "userId": "00528031492779017172"
     },
     "user_tz": 300
    },
    "id": "aSYiLQV5lZCl",
    "outputId": "40a68e74-03a7-4467-99ed-fa87bb4a8ee5"
   },
   "outputs": [
    {
     "name": "stdout",
     "output_type": "stream",
     "text": [
      "Drive already mounted at /gdrive; to attempt to forcibly remount, call drive.mount(\"/gdrive\", force_remount=True).\n"
     ]
    }
   ],
   "source": [
    "from google.colab import drive\n",
    "drive.mount('/gdrive')"
   ]
  },
  {
   "cell_type": "code",
   "execution_count": 2,
   "metadata": {
    "executionInfo": {
     "elapsed": 5406,
     "status": "ok",
     "timestamp": 1733432839657,
     "user": {
      "displayName": "Xinhui Li",
      "userId": "00528031492779017172"
     },
     "user_tz": 300
    },
    "id": "YIuZRWKelbzW"
   },
   "outputs": [],
   "source": [
    "# Install the python package for google gen AI\n",
    "!pip install -q -U google-generativeai"
   ]
  },
  {
   "cell_type": "code",
   "execution_count": 3,
   "metadata": {
    "executionInfo": {
     "elapsed": 914,
     "status": "ok",
     "timestamp": 1733432840568,
     "user": {
      "displayName": "Xinhui Li",
      "userId": "00528031492779017172"
     },
     "user_tz": 300
    },
    "id": "RUcnRU_TsK4m"
   },
   "outputs": [],
   "source": [
    "# Import necessary packages and define helper function to render output of models to markdown\n",
    "import pathlib\n",
    "import textwrap\n",
    "\n",
    "import google.generativeai as genai\n",
    "\n",
    "from IPython.display import display\n",
    "from IPython.display import Markdown\n",
    "\n",
    "def to_markdown(text):\n",
    "  text = text.replace('•', '  *')\n",
    "  return Markdown(textwrap.indent(text, '> ', predicate=lambda _: True))\n",
    "\n",
    "# Used to securely store your API key\n",
    "from google.colab import userdata"
   ]
  },
  {
   "cell_type": "code",
   "execution_count": 4,
   "metadata": {
    "executionInfo": {
     "elapsed": 402,
     "status": "ok",
     "timestamp": 1733432840967,
     "user": {
      "displayName": "Xinhui Li",
      "userId": "00528031492779017172"
     },
     "user_tz": 300
    },
    "id": "wpEF9u56sSwF"
   },
   "outputs": [],
   "source": [
    "# Grab API Key from your secrets, add it to secrets if its not there (on the left hand panel)\n",
    "GOOGLE_API_KEY=userdata.get('MoodMates')\n",
    "\n",
    "# Configure genai to use your API Key\n",
    "genai.configure(api_key=GOOGLE_API_KEY)"
   ]
  },
  {
   "cell_type": "code",
   "execution_count": 5,
   "metadata": {
    "colab": {
     "base_uri": "https://localhost:8080/",
     "height": 481
    },
    "executionInfo": {
     "elapsed": 459,
     "status": "ok",
     "timestamp": 1733432841422,
     "user": {
      "displayName": "Xinhui Li",
      "userId": "00528031492779017172"
     },
     "user_tz": 300
    },
    "id": "OE8PBt0VsmwZ",
    "outputId": "03d21983-8a51-4100-bd91-ef76a03c69aa"
   },
   "outputs": [
    {
     "name": "stdout",
     "output_type": "stream",
     "text": [
      "models/gemini-1.0-pro-latest\n",
      "models/gemini-1.0-pro\n",
      "models/gemini-pro\n",
      "models/gemini-1.0-pro-001\n",
      "models/gemini-1.0-pro-vision-latest\n",
      "models/gemini-pro-vision\n",
      "models/gemini-1.5-pro-latest\n",
      "models/gemini-1.5-pro-001\n",
      "models/gemini-1.5-pro-002\n",
      "models/gemini-1.5-pro\n",
      "models/gemini-1.5-pro-exp-0801\n",
      "models/gemini-1.5-pro-exp-0827\n",
      "models/gemini-1.5-flash-latest\n",
      "models/gemini-1.5-flash-001\n",
      "models/gemini-1.5-flash-001-tuning\n",
      "models/gemini-1.5-flash\n",
      "models/gemini-1.5-flash-exp-0827\n",
      "models/gemini-1.5-flash-002\n",
      "models/gemini-1.5-flash-8b\n",
      "models/gemini-1.5-flash-8b-001\n",
      "models/gemini-1.5-flash-8b-latest\n",
      "models/gemini-1.5-flash-8b-exp-0827\n",
      "models/gemini-1.5-flash-8b-exp-0924\n",
      "models/learnlm-1.5-pro-experimental\n",
      "models/gemini-exp-1114\n",
      "models/gemini-exp-1121\n"
     ]
    }
   ],
   "source": [
    "# List the available gemini models\n",
    "for m in genai.list_models():\n",
    "  if 'generateContent' in m.supported_generation_methods:\n",
    "    print(m.name)"
   ]
  },
  {
   "cell_type": "code",
   "execution_count": null,
   "metadata": {
    "executionInfo": {
     "elapsed": 5,
     "status": "ok",
     "timestamp": 1733432841422,
     "user": {
      "displayName": "Xinhui Li",
      "userId": "00528031492779017172"
     },
     "user_tz": 300
    },
    "id": "KOPCRzsisqz1"
   },
   "outputs": [],
   "source": [
    "# Select a model and instantiate a GenerativeModel\n",
    "model = genai.GenerativeModel('gemini-1.5-flash-8b-exp-0924')"
   ]
  },
  {
   "cell_type": "code",
   "execution_count": null,
   "metadata": {
    "executionInfo": {
     "elapsed": 5,
     "status": "ok",
     "timestamp": 1733432841422,
     "user": {
      "displayName": "Xinhui Li",
      "userId": "00528031492779017172"
     },
     "user_tz": 300
    },
    "id": "XHT7xORUnDiV"
   },
   "outputs": [],
   "source": [
    "f = open(\"simulated_transcript.txt\", \"r\")\n",
    "transcript = f.read()\n",
    "\n",
    "# Precognition\n",
    "precognition = \"\"\"You are a psychiatrist working in an outpatient practice setting, where you specialize in the evaluation and treatment of ADHD and co-occurring psychiatric disorders in adults. \\\n",
    "You are familiar with DSM-5 criteria for ADHD, anxiety disorders, substance use disorders, and personality disorders. \\\n",
    "You are also proficient in analyzing interview transcripts for explicit content, underlying psychological themes, and patient response behavior.\n",
    "\n",
    "Your task is to detect behavioral evidence of common ADHD symptoms in a clinical transcript where another psychiatrist is interviewing a patient asking about the common symptoms of inattentive behavior. \\\n",
    "There are nine inattentive symptoms in the DSM-5: inattention to detail, poor focus, difficulty listening to others when being spoken to directly, inability to complete tasks, poor organizational abilities, avoiding difficult tasks or tasks requiring sustained focus, frequently losing their belongings, distractibility, and forgetfulness. \\\n",
    "You notice when the patient pays poor attention to details of the question they are answered. \\\n",
    "You notice if the patient has trouble sustaining focus when they reply to the psychiatrist. \\\n",
    "You notice when the psychiatrist gives the patient feedback about their inattention in the context of the interview, \\\n",
    "for example when the patient fails to answer a question or gets distracted. \\\n",
    "You notice when the patient seems to avoid answering questions.\n",
    "\"\"\""
   ]
  },
  {
   "cell_type": "code",
   "execution_count": null,
   "metadata": {
    "colab": {
     "base_uri": "https://localhost:8080/",
     "height": 1000
    },
    "executionInfo": {
     "elapsed": 6947,
     "status": "ok",
     "timestamp": 1733432848364,
     "user": {
      "displayName": "Xinhui Li",
      "userId": "00528031492779017172"
     },
     "user_tz": 300
    },
    "id": "8AcWIqt7pqMR",
    "outputId": "209d4305-11d9-42d5-e153-6e5daf4235ca"
   },
   "outputs": [
    {
     "data": {
      "text/markdown": [
       "> **Qualitative Assessment:**\n",
       "> \n",
       "> 1. **Inattention to Detail:**\n",
       "> \n",
       ">    * **Content:** The patient consistently reports difficulty paying attention to details, leading to errors in homework, chores, work projects, and communication (e.g., misspellings, incomplete chores, forgetting details in projects).  He describes a pattern of needing multiple attempts to complete tasks that require attention to detail.\n",
       ">    * **Behavioral Evidence:** The patient demonstrates inattention to detail through:\n",
       ">       * **Repeated errors:**  Admitting to making mistakes on math homework, doing poor jobs on chores, misinterpreting instructions, and submitting incomplete/off-topic work.\n",
       ">       * **Difficulty with tasks requiring accuracy:** Struggles with accuracy in completing tasks like cleaning, chores, and academic assignments.\n",
       ">       * **Difficulty following instructions:**  Mentions misinterpreting instructions and producing work that deviates from instructions.\n",
       ">       * **Poor focus on details in conversations:**  The patient does not grasp the subtle aspects of the psychiatrist's questions (e.g., distinction between \"attention to detail\" and \"distractibility\") or struggles to respond with the level of precision the psychiatrist is seeking.\n",
       ">       * **Misspellings:** Admits to misspellings in emails.\n",
       "> \n",
       "> 2. **Poor Focus:**\n",
       "> \n",
       ">    * **Content:** The patient reports difficulty sustaining focus, describing struggles with maintaining attention during tasks, especially those requiring prolonged concentration.  He readily admits to becoming distracted.\n",
       ">    * **Behavioral Evidence:** The patient demonstrates poor focus through:\n",
       ">       * **Distraction:**  Repeatedly reports getting distracted \"all the time.\"\n",
       ">       * **Strained attention:**  Acknowledges difficulty sustaining focused attention, often leading to a feeling of not trying.  This is specifically evident when the psychiatrist clarifies the nature of the question and the patient admits to struggling to focus.\n",
       ">       * **Stopping tasks/activities:**  Stops movies halfway through, abandons projects before completion, and describes discontinuous work patterns.\n",
       ">       * **Inability to sustain focus on tasks:** Reports dropping classes in college due to inability to concentrate on the material.\n",
       ">       * **Need for rest:** Reports becoming bored or tired, causing him to stop tasks.\n",
       ">       * **Difficulty during tasks requiring prolonged attention:** Admits to struggles in college classes and difficulty with tasks requiring prolonged attention.\n",
       "> \n",
       "> 3. **Difficulty Listening to Others:**\n",
       "> \n",
       ">    * **Content:** The patient acknowledges a pattern of difficulty attending to what others are saying, explicitly stated by his parents and girlfriend. He has noticed instances of not understanding what was being said.\n",
       ">    * **Behavioral Evidence:** The patient demonstrates difficulty listening through:\n",
       ">       * **Acknowledging issues:** Reports his parents saying he wasn't listening since childhood and that girlfriends have commented on his lack of attentiveness.\n",
       ">       * **Specific example of missed information:**  Describes a significant missed social engagement (banquet) due to not listening attentively to the details of the plan.\n",
       ">       * **General reporting of issues:**  Admitting to losing track of what others were saying.\n",
       "> \n",
       "> 4. **Inability to Complete Tasks:**\n",
       "> \n",
       ">    * **Content:** The patient reports struggles initiating and completing tasks, both in school and in his adult life.\n",
       ">    * **Behavioral Evidence:** The patient shows struggles in task completion through:\n",
       ">       * **Incomplete work:**  Admitting to turning in incomplete work in school and difficulty following through with projects.\n",
       ">       * **Sidetracked from tasks:** Describes getting sidetracked from tasks, both in childhood and adulthood.\n",
       ">       * **Developing systems to complete tasks:** Acknowledges the development of systems (calendars, reminders) to counteract his struggles.\n",
       ">       * **Avoiding tasks due to perceived difficulty:**  Quitting a job due to the perceived difficulty of tasks.\n",
       "> \n",
       "> 5. **Poor Organizational Abilities:**\n",
       "> \n",
       ">    * **Content:** The patient details significant issues in organizing tasks and information, impacting his ability to manage projects.\n",
       ">    * **Behavioral Evidence:** The patient demonstrates poor organization by:\n",
       ">       * **Out-of-order tasks:**  Describing completing tasks in the wrong order, such as mopping before sweeping.\n",
       ">       * **Difficulty with planning and sequencing:** Difficulty sequencing tasks or arranging work projects efficiently.\n",
       ">       * **Using external systems:**  Development of external systems and prompts to help structure and organize tasks.\n",
       ">       * **Difficulty prioritizing:** Struggles to prioritize tasks and stick to schedules.\n",
       "> \n",
       "> 6. **Avoiding Difficult Tasks:**\n",
       "> \n",
       ">    * **Content:** The patient mentions avoiding tasks he perceives as demanding or requiring sustained effort.\n",
       ">    * **Behavioral Evidence:** The patient demonstrates avoidance through:\n",
       ">       * **Quitting job due to perceived difficulty:** Quitting a job (sandwich shop) because he found counting money and giving change difficult.\n",
       ">       * **Avoidance of specific activities:**  Not cooking due to the complexity of following steps.\n",
       ">       * **Avoidance of complex projects:** Difficulty initiating or completing projects he perceives as complex or requiring sustained attention.\n",
       ">       * **Academic Avoidance:** Dropping classes in college, or changing majors due to perceived difficulties.\n",
       "> \n",
       "> 7. **Frequently Losing Belongings:**\n",
       "> \n",
       ">    * **Content:** The patient describes a history of losing various items, impacting his personal life and responsibilities.\n",
       ">    * **Behavioral Evidence:** The patient shows a pattern of loss with:\n",
       ">       * **Specific examples of lost items:**  Listing various lost items, including homework, action figures, car keys, phones, and headphones.\n",
       ">       * **Consequences of loss:**  Listing real-world consequences, like needing help to get into his house or having to replace items repeatedly.\n",
       "> \n",
       "> 8. **Distractibility:**\n",
       "> \n",
       ">    * **Content:** The patient readily admits to being easily distracted by external stimuli, affecting his ability to concentrate.\n",
       ">    * **Behavioral Evidence:** The patient expresses distractibility through:\n",
       ">       * **Internal and external factors:** Mentions light, sound, and internal thoughts as distractors.\n",
       ">       * **Avoiding distractions:**  Describing the need for quiet environments to work effectively.\n",
       ">       * **Impact on social situations:** Getting off topic during group projects and getting into trouble for being disruptive.\n",
       "> \n",
       "> 9. **Forgetfulness:**\n",
       "> \n",
       ">    * **Content:** The patient consistently reports difficulty remembering important details, plans, and appointments.\n",
       ">    * **Behavioral Evidence:** The patient demonstrates forgetfulness through:\n",
       ">       * **Early and enduring issues:**  Reporting that parents and friends commented about his forgetfulness early in life, and that the issue continues into adulthood.\n",
       ">       * **Specific examples of forgetfulness:**  Failing to remember appointments, plans, instructions, and deadlines.\n",
       ">       * **Impact on relationships:**  Impact on friendships and romantic relationships because of forgetfulness.\n",
       "> \n",
       "> \n",
       "> This comprehensive analysis of the transcript provides clear behavioral evidence supporting the presence of various ADHD symptoms in the patient. The consistent and pervasive nature of these difficulties across multiple life domains strongly suggests the need for further assessment and potential treatment.\n"
      ],
      "text/plain": [
       "<IPython.core.display.Markdown object>"
      ]
     },
     "execution_count": 8,
     "metadata": {},
     "output_type": "execute_result"
    }
   ],
   "source": [
    "# A qualitative assessment agent\n",
    "qualitative_assessment_prompt = f\"\"\"{precognition}\n",
    "\n",
    "Please think step by step and provide comprehensive content and behavioral evidence.\n",
    "\n",
    "**Input Data:**\n",
    "{transcript}\n",
    "\n",
    "**Output Format:**\n",
    "\n",
    "**Qualitative Assessment:**\n",
    "1. Summarize the content of the patient’s symptom of inattention to detail, then summarize the patient’s behavioral evidence of inattention to detail evident in the transcript.\n",
    "2. Summarize the content of the patient’s symptom of poor focus, then summarize the patient’s behavioral evidence of poor focus evident in the transcript.\n",
    "3. Summarize the content of the patient’s difficulty listening to others when being spoken to directly, then summarize the patient’s behavioral evidence of poor listening in the transcript.\n",
    "4. Summarize the content of the patient’s symptom of inability to complete tasks, then summarize the patient’s behavioral evidence of poor task completion in the transcript.\n",
    "5. Summarize the content of the patient’s symptom of poor organizational abilities, then summarize the patient’s behavioral evidence of poor organization in the transcript.\n",
    "6. Summarize the content of the patient’s symptom of avoiding difficult tasks or tasks requiring sustained focus, then summarize the patient’s behavioral evidence of avoidance in the transcript.\n",
    "7. Summarize the content of the patient’s symptom of frequently losing their belongings, then summarize the patient’s behavioral evidence of losing physical objects in the transcript.\n",
    "8. Summarize the content of the patient’s symptom of distractibility, then summarize the patient’s behavioral evidence of distractibility in the transcript.\n",
    "9. Summarize the content of the patient’s symptom of forgetfulness, then summarize the patient’s behavioral evidence of forgetfulness in the transcript.\n",
    "\n",
    "For qualitative assessment, summarize the content and behavioral evidence separately.\"\"\"\n",
    "\n",
    "qualitative_assessment_response = model.generate_content(qualitative_assessment_prompt)\n",
    "\n",
    "to_markdown(qualitative_assessment_response.text)"
   ]
  },
  {
   "cell_type": "code",
   "execution_count": null,
   "metadata": {
    "colab": {
     "base_uri": "https://localhost:8080/",
     "height": 1000
    },
    "executionInfo": {
     "elapsed": 7089,
     "status": "ok",
     "timestamp": 1733433037789,
     "user": {
      "displayName": "Xinhui Li",
      "userId": "00528031492779017172"
     },
     "user_tz": 300
    },
    "id": "gphIzt8-pv78",
    "outputId": "e040cb18-9b69-4721-fc88-ff98b7147533"
   },
   "outputs": [
    {
     "data": {
      "text/markdown": [
       "> Analysis of ADHD Inattentive Symptoms from Transcript\n",
       "> \n",
       "> Here's an analysis of the inattentive symptoms present in the provided transcript, using the outlined criteria:\n",
       "> \n",
       "> **1. Inattention to Detail:**\n",
       "> \n",
       "> * **has_score:** 1 (The psychiatrist directly asks about attention to detail).\n",
       "> * **start_score:** 1 (The patient mentions third grade as the earliest memory of struggling with attention to detail).\n",
       "> * **start_score_queued:** 0 (No further questioning required to get a starting point.)\n",
       "> * **significance_score:** 1 (The patient describes consequences like hiring a tutor and parental frustration, linking the symptom to significant life impact).\n",
       "> * **significance_score_queued:** 0 (Patient details the impact of inattention immediately after the prompt).\n",
       "> \n",
       "> *Conversation excerpt:*  \"Do you feel like you struggle with attention to details compared to other people?\"  \"What was your earliest memory of this issue?\" \"What was happening then?\" \"Did these culminate in any consequences for you?\" \"How was this discussed by the family?\"  \"Was your attention to detail an issue at home too?\" \"What about over the years? Has the problem continued?\" \"Did the symptom follow you into your career? Or your relationships?\"\n",
       "> \n",
       "> \n",
       "> **2. Poor Focus:**\n",
       "> \n",
       "> * **has_score:** 1 (Direct questioning on ability to focus).\n",
       "> * **start_score:** 1 (Patient states they have trouble focusing, using phrases like \"get distracted like all the time\").\n",
       "> * **start_score_queued:** 0 (Patient provides immediate response).\n",
       "> * **significance_score:** 1 (Patient acknowledges significant impact, including dropping classes in college, and mentions difficulty sustaining focus on tasks).\n",
       "> * **significance_score_queued:** 0 (Patient's response directly connects symptom to negative consequences).\n",
       "> \n",
       "> *Conversation excerpt:* \"Are you able to focus your attention when you need to?\" \"I get distracted like all the time.\"\n",
       "> \n",
       "> **3. Difficulty Listening to Others:**\n",
       "> \n",
       "> * **has_score:** 1 (Psychiatrist asks if the patient struggles to listen to others and if they have been told this by others).\n",
       "> * **start_score:** 1 (The patient explicitly remembers parents telling them they weren't listening from a young age (5-6 years old).\n",
       "> * **start_score_queued:** 0 (Patient has immediate response about the timeline.)\n",
       "> * **significance_score:** 1 (Patient describes significant relational consequences: conflicts with girlfriends due to misremembering plans/appointments).\n",
       "> * **significance_score_queued:** 0 (Patient explains consequences immediately.)\n",
       "> \n",
       "> *Conversation excerpt:* \"What about when people are speaking to you directly? Do you notice that you’ve stopped listening as they are speaking? Or, does anyone tell you that you’re not listening to them?\"\n",
       "> \n",
       "> **4. Inability to Complete Tasks:**\n",
       "> \n",
       "> * **has_score:** 1 (Psychiatrist asks if the patient can get started and follow through on things).\n",
       "> * **start_score:** 1 (Patient acknowledges difficulty completing tasks in the past, but mentions having developed systems).\n",
       "> * **start_score_queued:** 0 (Patient's explanation provides context.)\n",
       "> * **significance_score:** 1 (Patient links difficulty to problems in college and at work).\n",
       "> * **significance_score_queued:** 0 (Patient immediately provides a significant explanation.)\n",
       "> \n",
       "> \n",
       "> **5. Poor Organizational Abilities:**\n",
       "> \n",
       "> * **has_score:** 1 (Indirectly in the context of task completion and organizational systems.)\n",
       "> * **start_score:** 1 (Patient mentions using systems for reminders and calendars, which suggests organizational issues.)\n",
       "> * **start_score_queued:** 0 (Patient explains symptom immediately)\n",
       "> * **significance_score:** 1 (Patient indicates that organizational systems are necessary and that the symptom impacted their academic decisions and personal life)\n",
       "> * **significance_score_queued:** 0 (Patient answers immediately.)\n",
       "> \n",
       "> **6. Avoiding Difficult Tasks:**\n",
       "> \n",
       "> * **has_score:** 1 (Directly addresses avoidance of difficult tasks).\n",
       "> * **start_score:** 1 (Patient mentions avoidance of math and engineering, and the difficulties of his first job).\n",
       "> * **start_score_queued:** 0 (Patient provides a direct start point).\n",
       "> * **significance_score:** 1 (The patient links the avoidance to significant decisions and impacts).\n",
       "> * **significance_score_queued:** 0 (Patient immediately connects avoidance to significant life decisions like dropping classes or quitting jobs.)\n",
       "> \n",
       "> **7. Frequently Losing Belongings:**\n",
       "> \n",
       "> * **has_score:** 1 (Indirectly through the discussion of losing things).\n",
       "> * **start_score:** 1 (Patient provides examples like lost homework, action figures, etc., implying frequent loss).\n",
       "> * **start_score_queued:** 0 (Patient provides an immediate answer).\n",
       "> * **significance_score:** 1 (Patient reports significant consequences like re-keying doors and having to pay for lock-smith).\n",
       "> * **significance_score_queued:** 0 (Patient immediately connects this to significant life experiences and the impact of the symptom.)\n",
       "> \n",
       "> **8. Distractibility:**\n",
       "> \n",
       "> * **has_score:** 1 (Psychiatrist discusses distractibility).\n",
       "> * **start_score:** 1 (Patient explicitly describes being distracted frequently).\n",
       "> * **start_score_queued:** 0 (Patient provides an immediate answer.)\n",
       "> * **significance_score:** 1 (Patient connects it to work productivity, academic performance, and relational struggles.)\n",
       "> * **significance_score_queued:** 0 (Patient links distractibility to challenges in various areas.)\n",
       "> \n",
       "> **9. Forgetfulness:**\n",
       "> \n",
       "> * **has_score:** 1 (Psychiatrist asks directly about forgetfulness).\n",
       "> * **start_score:** 1 (Patient mentions forgetting homework, appointments, etc., and links it to early childhood).\n",
       "> * **start_score_queued:** 0 (Patient answers the question immediately and links forgetfulness to early life.)\n",
       "> * **significance_score:** 1 (Patient points to significant relational consequences – strained relationships with parents and romantic partners due to forgetfulness).\n",
       "> * **significance_score_queued:** 0 (Patient describes the effect on relationships.)\n",
       "> \n",
       "> \n",
       "> **Important Note:** This analysis relies on the provided transcript and assumes that the patient's statements accurately reflect their experiences.  A full clinical evaluation would need to consider additional factors, including observation of the patient's behavior, and the presence of other symptoms such as impulsivity or hyperactivity, in order to confirm a diagnosis.\n"
      ],
      "text/plain": [
       "<IPython.core.display.Markdown object>"
      ]
     },
     "execution_count": 12,
     "metadata": {},
     "output_type": "execute_result"
    }
   ],
   "source": [
    "# A quantitative assessment agent aiming to extract sufficient evidence to confirm if the patient has the problem such as life-changing significance and the number of prompt times for a psychiatrist to find that out\n",
    "quantitative_assessment_prompt1 = f\"\"\"{precognition}\n",
    "\n",
    "Please think step by step and include all nine inattentive symptoms in the analysis. \\\n",
    "For each of nine inattentive symptom, summarize the corresponding conversation in the transcript to explain how you count the following metrics: *has_score*, *start_score*, *start_score_queued*, *significance_score*, and *significance_score_queued*. \\\n",
    "Please make sure your reply is within the 8192-token limit. \\\n",
    "\n",
    "**Input Transcript Data:**\n",
    "{transcript}\n",
    "\n",
    "**Output Format:**\n",
    "1. For each of nine inattentive symptoms, please count how many times the psychiatrist must ask the patient whether or not they have the symptom. This is the *has_score*.\n",
    "2. For each of nine inattentive symptoms, score one point if the patient is able to explain when the symptom began. This is the *start_score*. Then count the number of times the psychiatrist had to ask the patient when the symptom began before the patient answers fully. This is the *start_score_queued*. Please cite the corresponding conversation in the transcript to explain the count.\n",
    "3. For each of nine inattentive symptoms, score one point if the patient gives a convincing explanation that the symptom has significantly impacted their life. This is the *significance_score*. Then, count the number of times the psychiatrist had to query the patient before the patient gives their final answer. This is the *significance_score_queued*. Please cite the corresponding conversation in the transcript to explain the count.\n",
    "\"\"\"\n",
    "\n",
    "quantitative_assessment_response1 = model.generate_content(quantitative_assessment_prompt1)\n",
    "\n",
    "to_markdown(quantitative_assessment_response1.text)"
   ]
  },
  {
   "cell_type": "code",
   "execution_count": null,
   "metadata": {
    "colab": {
     "base_uri": "https://localhost:8080/",
     "height": 1000
    },
    "executionInfo": {
     "elapsed": 7783,
     "status": "ok",
     "timestamp": 1733432862672,
     "user": {
      "displayName": "Xinhui Li",
      "userId": "00528031492779017172"
     },
     "user_tz": 300
    },
    "id": "m5Ylbq9nc7TR",
    "outputId": "902feefa-f0cd-46fe-9e63-10679e2f8be1"
   },
   "outputs": [
    {
     "data": {
      "text/markdown": [
       "> Analysis of ADHD Inattentive Symptoms from Interview Transcript\n",
       "> \n",
       "> Here's an analysis of the patient's interview transcript, focusing on the nine inattentive symptoms of ADHD per DSM-5 criteria:\n",
       "> \n",
       "> **1. Inattention to Detail:**\n",
       "> \n",
       "> * **Omission Score:** 1\n",
       ">     * Citation: \"Psychiatrist: Are you able to sustain focus on other things? Like movies? Or outdoor activities?\" Patient: \"Sometimes. I have to stop movies halfway through a lot.\"  The patient does not directly address whether they struggle to notice details within the movies they watch.\n",
       "> * **Commission Score:** 2\n",
       ">     * Citation:  \"Psychiatrist: Do you feel like you struggle with attention to details compared to other people?\"  Patient: \"Oh yeah haha that has been my whole life…\". The patient's reply seems more focused on affirming that the symptom has been present throughout their life, rather than specifically answering whether they struggle with paying attention to details. Another instance is the patient's reply to \"Did the symptom follow you into your career?\" The answer is about the autonomy in commissioned projects, not inattention to details in the project itself.\n",
       "> * **Perseveration Score:** 0\n",
       "> \n",
       "> \n",
       "> **2. Difficulty Sustaining Attention:**\n",
       "> \n",
       "> * **Omission Score:** 2\n",
       ">     * Citation:  \"Psychiatrist: Does anything come to mind?\" Patient: \"I’d have to think about it more.\"  The question about the inattention in childhood is omitted.  Another instance is the patient's reply to \"What about after college? In your career or relationships?\" Patient: \"I'm not sure.\"\n",
       "> \n",
       "> * **Commission Score:** 3\n",
       ">     * Citation: \"Psychiatrist: I am not asking you about your distractibility. That will come later. When you are paying attention to things, are you able to focus or does it feel like you’re straining? To the point you might as well not be trying to focus in the first place.\" Patient: \"Um… Can you say that again?\" (The patient misunderstands the focused nature of the question).  Another example is, \"Psychiatrist: Are you able to focus your attention when you need to?\". Patient replies \"I get distracted like all the time.\"  Here the patient is reporting the broader, persistent difficulty, not in response to the specific prompt of maintaining focus during a task requiring sustained effort.  Lastly, in the question regarding maintaining focus in movies, the patient doesn't mention the inability to maintain focus, but that he has trouble with it.\n",
       "> * **Perseveration Score:** 2\n",
       ">     * Citation: \"Psychiatrist: When did you first notice that?\" Patient: \"I guess in college. When I was taking classes that I ended up having to drop\".  \"Psychiatrist: Did you have the symptom in childhood?\" Patient: \"I don’t know. Probably…\". Psychiatrist: \"Does anything come to mind?\" Patient:\"I’d have to think about it more.\" The patient's answer is not perseverative but does show an inability to recall events. The pattern here is omission of information asked for in childhood, coupled with attempts to recall it. This shows an inability to maintain focus on the questions and maintain a thread.\n",
       "> \n",
       "> \n",
       "> \n",
       "> **3. Difficulty Listening:**\n",
       "> \n",
       "> * **Omission Score:** 0\n",
       "> * **Commission Score:** 1\n",
       ">     * Citation: \"Psychiatrist: What about when people are speaking to you directly? Do you notice that you’ve stopped listening as they are speaking?\" The patient provides a definite, albeit somewhat delayed answer to a question with broader implications.\n",
       "> * **Perseveration Score:** 0\n",
       "> \n",
       "> \n",
       "> **4. Difficulty Completing Tasks:**\n",
       "> \n",
       "> * **Omission Score:** 1\n",
       ">     * Citation: \"Psychiatrist: Are you able to sustain focus on other things? Like movies? Or outdoor activities?\" Patient: \"Sometimes. I have to stop movies halfway through a lot.\" The patient does not mention difficulty completing tasks when asked a question about focusing attention in a broader context.\n",
       "> * **Commission Score:** 1\n",
       ">     * Citation: \"Psychiatrist: Do you start to feel strained and lose track of the plot?\" Patient: \"Yes! But not when I watch comedies.\" The patient's reply to a prompt for an evaluation of their focus skills is somewhat delayed and somewhat tangential to the question.\n",
       "> * **Perseveration Score:** 0\n",
       "> \n",
       "> \n",
       "> **5. Poor Organization:**\n",
       "> \n",
       "> * **Omission Score:** 3\n",
       ">     * Citation: \"Psychiatrist: What about at home when you were a kid? Did you get sidetracked there too?\" Patient: \"One time my parents sent me to the grocery store and I came back home with half of the grocery list missing.\" The patient does not fully elaborate on the organizational problems.  \"Psychiatrist: What about starting and completing tasks? Are you able to kind of get started and then follow through on things?\" Patient: \"I have developed some systems of reminders over the years to help me get through my projects at work but this is why.\"  (There is an incomplete response that would have been helpful in assessing broader organizational issues). Another omission happens when the patient is asked about their organizational skills when developing their systems to manage tasks.\n",
       "> * **Commission Score:** 1\n",
       ">     * Citation: \"Psychiatrist: You mentioned systems to keep you on task. Why do you need them now?\" Patient: \"If I’m not careful I could start making a project and never finish because here I’ve started another project and have gotten more interested in the new thing than the old one. I have a few projects that I never finished and maybe I’ll pick them back up when I have the time or interest. My current girlfriend likes to joke that our home is in shambles because of all the remodeling projects we have going on. I start a new project before finishing the old one.\" The patient's response is tangential and not entirely addressing the prompt. \n",
       "> * **Perseveration Score:** 0\n",
       "> \n",
       "> \n",
       "> **6. Avoiding Difficult Tasks:**\n",
       "> \n",
       "> * **Omission Score:** 1\n",
       ">     * Citation: \"Psychiatrist: Are there things you avoid because the effort just doesn’t seem possible?\" Patient: \"When I was a kid I wanted to be an astronaut but it seemed like too much work. I learned in college that there was no way I’d become an engineer because I couldn’t handle the math classes.\" The patient does not fully elaborate on avoidance related to other tasks or activities outside academic studies.\n",
       "> * **Commission Score:** 0\n",
       "> * **Perseveration Score:** 0\n",
       "> \n",
       "> **7. Frequently Losing Belongings:**\n",
       "> \n",
       "> * **Omission Score:** 0\n",
       "> * **Commission Score:** 0\n",
       "> * **Perseveration Score:** 0\n",
       "> \n",
       "> \n",
       "> **8. Distractibility:**\n",
       "> \n",
       "> * **Omission Score:** 0\n",
       "> * **Commission Score:** 1\n",
       "> * **Perseveration Score:** 0\n",
       "> \n",
       "> \n",
       "> **9. Forgetfulness:**\n",
       "> \n",
       "> * **Omission Score:** 2\n",
       ">     * Citation: \"Psychiatrist: What about your forgetfulness in general?\" Patient: \"I’ve always been forgetful.\" The patient misses multiple opportunities to elaborate about their forgetfulness related to events.\n",
       "> * **Commission Score:** 0\n",
       "> * **Perseveration Score:** 1\n",
       ">     * Citation: \"Psychiatrist: What’s the first thing you remember forgetting? Haha!\" Patient: \"Probably forgetting to do my homework or forgetting to bring things to school.\" \"Psychiatrist: We’ll talk about forgetfulness in a moment.\" Patient: \"I’ve always been forgetful.\" The patient repeats a similar response.\n",
       "> \n",
       "> **Total Scores (ADHD Inattentive Symptoms):**\n",
       "> \n",
       "> The patient's responses suggest significant inattentive behaviors, with higher scores in categories like Sustaining Attention and Poor Organization.  Further clinical assessment and diagnostic evaluation are needed to confirm a diagnosis of ADHD.\n"
      ],
      "text/plain": [
       "<IPython.core.display.Markdown object>"
      ]
     },
     "execution_count": 10,
     "metadata": {},
     "output_type": "execute_result"
    }
   ],
   "source": [
    "# A quantitative assessment agent that focuses on omission, commission, and perseveration\n",
    "quantitative_assessment_prompt2 = f\"\"\"{precognition}\n",
    "\n",
    "Please think step by step and include all nine inattentive symptoms in the analysis. \\\n",
    "For each of nine inattentive symptom, cite the corresponding conversation in the transcript to explain how you count the following metrics: *omission_score*, *commission_score*, and *perseveration_score*. \\\n",
    "\n",
    "**Input Transcript Data:**\n",
    "{transcript}\n",
    "\n",
    "**Output Format:**\n",
    "\n",
    "1. For each of nine inattentive symptoms, score one point if the patient omits a reply to something the psychiatrist asked related to the symptom. Report the total of points scored per inattention symptom. This is the *omission_score*. Please cite the corresponding conversation in the transcript to explain the count.\n",
    "2. For each of nine inattentive symptoms, score one point if the patient replies but appears to misunderstand the question that was asked of them by the interviewer. Report the total of points scored per inattention symptom. This is the *commission_score*. Please cite the corresponding conversation in the transcript to explain the count.\n",
    "3. For each of nine inattentive symptoms, score one point if the patient appears to give the same answer twice despite re-prompting by the psychiatrist. This is the *perseveration_score*. Please cite the corresponding conversation in the transcript to explain the count.\n",
    "\"\"\"\n",
    "\n",
    "quantitative_assessment_response2 = model.generate_content(quantitative_assessment_prompt2)\n",
    "\n",
    "to_markdown(quantitative_assessment_response2.text)"
   ]
  },
  {
   "cell_type": "code",
   "execution_count": 11,
   "metadata": {
    "colab": {
     "base_uri": "https://localhost:8080/",
     "height": 876
    },
    "executionInfo": {
     "elapsed": 3723,
     "status": "ok",
     "timestamp": 1733432866390,
     "user": {
      "displayName": "Xinhui Li",
      "userId": "00528031492779017172"
     },
     "user_tz": 300
    },
    "id": "xK8iByJ6masd",
    "outputId": "91a8bba0-9eca-4b56-8557-1412c7f30695"
   },
   "outputs": [
    {
     "data": {
      "text/markdown": [
       "> Based on the provided analysis, here's a table summarizing the quantitative assessment results for the 9 ADHD inattentive symptoms:\n",
       "> \n",
       "> **Quantitative Assessment of ADHD Inattentive Symptoms**\n",
       "> \n",
       "> | Symptom | has_score | start_score | start_score_queued | significance_score | significance_score_queued | omission_score | commission_score | perseveration_score |\n",
       "> |---|---|---|---|---|---|---|---|---|\n",
       "> | Inattention to Detail | 1 |  1 | 0 | 1 | 0 | 1 | 2 | 0 |\n",
       "> | Difficulty Sustaining Focus | 1 | 1 | 0 | 1 | 0 | 2 | 3 | 2 |\n",
       "> | Difficulty Listening | 1 | 1 | 0 | 1 | 0 | 0 | 1 | 0 |\n",
       "> | Difficulty Completing Tasks | 1 | 1 | 0 | 1 | 0 | 1 | 1 | 0 |\n",
       "> | Poor Organizational Abilities | 1 | 1 | 0 | 1 | 0 | 3 | 1 | 0 |\n",
       "> | Avoiding Difficult Tasks | 1 | 1 | 0 | 1 | 0 | 1 | 0 | 0 |\n",
       "> | Frequently Losing Belongings | 1 | 1 | 0 | 1 | 0 | 0 | 0 | 0 |\n",
       "> | Distractibility | 1 | 1 | 0 | 1 | 0 | 0 | 1 | 0 |\n",
       "> | Forgetfulness | 1 | 1 | 0 | 1 | 0 | 2 | 0 | 1 |\n",
       "> \n",
       "> \n",
       "> **Explanation of Scores (from the second response):**\n",
       "> \n",
       "> * **has_score:**  Indicates if the psychiatrist explicitly asked about the symptom. (1 = yes, 0 = no)\n",
       "> * **start_score:**  Indicates if the patient provided a starting point for the symptom. (1 = yes, 0 = no).  This is based on the earliest reported experience.\n",
       "> * **start_score_queued:**  Indicates if the patient provided a specific starting point without prompting. (1 = yes, 0 = no).  A crucial distinction, as 0 means the patient provided the start point spontaneously.\n",
       "> * **significance_score:** Indicates if the patient described the *impact* of the symptom. (1 = yes, 0 = no)\n",
       "> * **significance_score_queued:** Indicates if the patient's response immediately highlighted the impact of the symptom. (1 = yes, 0 = no)\n",
       "> * **omission_score:** Counts the instances where the patient failed to fully address the symptom when prompted.  Higher scores indicate more omissions.\n",
       "> * **commission_score:** Counts the instances where the patient provided tangential or incomplete responses to a question.\n",
       "> * **perseveration_score:** Counts instances where the patient repeated similar responses or showed difficulty shifting their focus between prompts, highlighting an inability to maintain focus.\n",
       "> \n",
       "> \n",
       "> **Important Note:** This table is a direct representation of the scores in the provided analysis.  It's crucial to remember that these are not standardized diagnostic scores. A qualified professional needs to synthesize this data and consider additional factors for a proper diagnosis.\n"
      ],
      "text/plain": [
       "<IPython.core.display.Markdown object>"
      ]
     },
     "execution_count": 11,
     "metadata": {},
     "output_type": "execute_result"
    }
   ],
   "source": [
    "prompt = f\"\"\"Given the quantitative assessment results below, please generate a table where rows are 9 symptoms (inattention to detail, poor focus, difficulty listening to others when being spoken to directly, inability to complete tasks, poor organizational abilities, avoiding difficult tasks or tasks requiring sustained focus, frequently losing their belongings, distractibility, and forgetfulness) and columns are 8 metrics (has_score, start_score, start_score_queued, significance_score, significance_score_queued, omission_score, commission_score, and perseveration_score)\n",
    "\n",
    "{quantitative_assessment_response1}\n",
    "\n",
    "{quantitative_assessment_response2}\n",
    "\"\"\"\n",
    "\n",
    "response = model.generate_content(prompt)\n",
    "\n",
    "to_markdown(response.text)"
   ]
  }
 ],
 "metadata": {
  "colab": {
   "provenance": [
    {
     "file_id": "1nGgHF8tJHK9G2k_94S6OzNMK7jYannss",
     "timestamp": 1733331175424
    }
   ]
  },
  "kernelspec": {
   "display_name": "Python 3",
   "name": "python3"
  },
  "language_info": {
   "name": "python"
  }
 },
 "nbformat": 4,
 "nbformat_minor": 0
}
